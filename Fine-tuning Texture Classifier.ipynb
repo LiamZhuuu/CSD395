{
 "cells": [
  {
   "cell_type": "code",
   "execution_count": 18,
   "metadata": {
    "collapsed": true
   },
   "outputs": [],
   "source": [
    "from texture.TextureClassifier import TextureClassifier\n",
    "import os\n",
    "import logging\n",
    "\n",
    "logger = logging.getLogger()\n",
    "logger.setLevel(logging.DEBUG)\n",
    "data_dir = '/home/jiaxuzhu/data/all_patches'\n",
    "p_labels = ['5N', '7n', '7N', '12N', 'Gr', 'LVe', 'Pn', 'SuVe', 'VLL', 'BackG']"
   ]
  },
  {
   "cell_type": "code",
   "execution_count": 19,
   "metadata": {
    "collapsed": false
   },
   "outputs": [
    {
     "name": "stderr",
     "output_type": "stream",
     "text": [
      "INFO:root:Start training with [gpu(0)]\n",
      "INFO:root:Epoch[0] Batch [30]\tSpeed: 125.83 samples/sec\tTrain-accuracy=0.494792\n",
      "INFO:root:Epoch[0] Batch [60]\tSpeed: 119.13 samples/sec\tTrain-accuracy=0.614583\n",
      "INFO:root:Epoch[0] Batch [90]\tSpeed: 111.10 samples/sec\tTrain-accuracy=0.681684\n",
      "INFO:root:Epoch[0] Batch [120]\tSpeed: 112.95 samples/sec\tTrain-accuracy=0.723828\n",
      "INFO:root:Epoch[0] Batch [150]\tSpeed: 110.09 samples/sec\tTrain-accuracy=0.749844\n",
      "INFO:root:Epoch[0] Batch [180]\tSpeed: 111.53 samples/sec\tTrain-accuracy=0.771181\n",
      "INFO:root:Epoch[0] Batch [210]\tSpeed: 111.51 samples/sec\tTrain-accuracy=0.788690\n",
      "INFO:root:Epoch[0] Batch [240]\tSpeed: 111.65 samples/sec\tTrain-accuracy=0.801693\n",
      "INFO:root:Epoch[0] Batch [270]\tSpeed: 111.23 samples/sec\tTrain-accuracy=0.813252\n",
      "INFO:root:Epoch[0] Train-accuracy=0.819309\n",
      "INFO:root:Epoch[0] Time cost=325.958\n",
      "INFO:root:Epoch[0] Validation-accuracy=0.837891\n",
      "INFO:root:Saved checkpoint to \"/home/jiaxuzhu/developer/CSD395/model/inception-bn/inception-stage1-0001.params\"\n",
      "INFO:root:Epoch[1] Batch [30]\tSpeed: 115.58 samples/sec\tTrain-accuracy=0.922917\n",
      "INFO:root:Epoch[1] Batch [60]\tSpeed: 111.69 samples/sec\tTrain-accuracy=0.923307\n",
      "INFO:root:Epoch[1] Batch [90]\tSpeed: 112.37 samples/sec\tTrain-accuracy=0.930990\n",
      "INFO:root:Epoch[1] Batch [120]\tSpeed: 111.47 samples/sec\tTrain-accuracy=0.935352\n",
      "INFO:root:Epoch[1] Batch [150]\tSpeed: 111.76 samples/sec\tTrain-accuracy=0.939010\n",
      "INFO:root:Epoch[1] Batch [180]\tSpeed: 112.07 samples/sec\tTrain-accuracy=0.942708\n",
      "INFO:root:Epoch[1] Batch [210]\tSpeed: 112.22 samples/sec\tTrain-accuracy=0.946838\n",
      "INFO:root:Epoch[1] Batch [240]\tSpeed: 111.31 samples/sec\tTrain-accuracy=0.949154\n",
      "INFO:root:Epoch[1] Batch [270]\tSpeed: 112.76 samples/sec\tTrain-accuracy=0.951620\n",
      "INFO:root:Epoch[1] Train-accuracy=0.952420\n",
      "INFO:root:Epoch[1] Time cost=328.856\n",
      "INFO:root:Epoch[1] Validation-accuracy=0.943359\n",
      "INFO:root:Saved checkpoint to \"/home/jiaxuzhu/developer/CSD395/model/inception-bn/inception-stage1-0002.params\"\n",
      "INFO:root:Epoch[2] Batch [30]\tSpeed: 115.60 samples/sec\tTrain-accuracy=0.981250\n",
      "INFO:root:Epoch[2] Batch [60]\tSpeed: 112.06 samples/sec\tTrain-accuracy=0.979167\n",
      "INFO:root:Epoch[2] Batch [90]\tSpeed: 112.74 samples/sec\tTrain-accuracy=0.980816\n",
      "INFO:root:Epoch[2] Batch [120]\tSpeed: 113.11 samples/sec\tTrain-accuracy=0.982812\n",
      "INFO:root:Epoch[2] Batch [150]\tSpeed: 113.37 samples/sec\tTrain-accuracy=0.984427\n",
      "INFO:root:Epoch[2] Batch [180]\tSpeed: 113.77 samples/sec\tTrain-accuracy=0.985634\n",
      "INFO:root:Epoch[2] Batch [210]\tSpeed: 113.57 samples/sec\tTrain-accuracy=0.986607\n",
      "INFO:root:Epoch[2] Batch [240]\tSpeed: 112.90 samples/sec\tTrain-accuracy=0.987533\n",
      "INFO:root:Epoch[2] Batch [270]\tSpeed: 112.55 samples/sec\tTrain-accuracy=0.988108\n",
      "INFO:root:Epoch[2] Train-accuracy=0.988525\n",
      "INFO:root:Epoch[2] Time cost=326.236\n",
      "INFO:root:Epoch[2] Validation-accuracy=0.957332\n",
      "INFO:root:Saved checkpoint to \"/home/jiaxuzhu/developer/CSD395/model/inception-bn/inception-stage1-0003.params\"\n",
      "INFO:root:Epoch[3] Batch [30]\tSpeed: 115.51 samples/sec\tTrain-accuracy=0.997656\n",
      "INFO:root:Epoch[3] Batch [60]\tSpeed: 112.31 samples/sec\tTrain-accuracy=0.997786\n",
      "INFO:root:Epoch[3] Batch [90]\tSpeed: 112.67 samples/sec\tTrain-accuracy=0.997743\n",
      "INFO:root:Epoch[3] Batch [120]\tSpeed: 113.55 samples/sec\tTrain-accuracy=0.997005\n",
      "INFO:root:Epoch[3] Batch [150]\tSpeed: 113.63 samples/sec\tTrain-accuracy=0.997396\n",
      "INFO:root:Epoch[3] Batch [180]\tSpeed: 113.29 samples/sec\tTrain-accuracy=0.997526\n",
      "INFO:root:Epoch[3] Batch [210]\tSpeed: 111.94 samples/sec\tTrain-accuracy=0.997842\n",
      "INFO:root:Epoch[3] Batch [240]\tSpeed: 111.50 samples/sec\tTrain-accuracy=0.997852\n",
      "INFO:root:Epoch[3] Batch [270]\tSpeed: 111.88 samples/sec\tTrain-accuracy=0.998003\n",
      "INFO:root:Epoch[3] Train-accuracy=0.997965\n",
      "INFO:root:Epoch[3] Time cost=327.413\n",
      "INFO:root:Epoch[3] Validation-accuracy=0.965625\n",
      "INFO:root:Saved checkpoint to \"/home/jiaxuzhu/developer/CSD395/model/inception-bn/inception-stage1-0004.params\"\n",
      "INFO:root:Epoch[4] Batch [30]\tSpeed: 116.51 samples/sec\tTrain-accuracy=0.999219\n",
      "INFO:root:Epoch[4] Batch [60]\tSpeed: 112.88 samples/sec\tTrain-accuracy=0.999219\n",
      "INFO:root:Epoch[4] Batch [90]\tSpeed: 112.62 samples/sec\tTrain-accuracy=0.999132\n",
      "INFO:root:Epoch[4] Batch [120]\tSpeed: 113.58 samples/sec\tTrain-accuracy=0.999154\n",
      "INFO:root:Epoch[4] Batch [150]\tSpeed: 113.39 samples/sec\tTrain-accuracy=0.999271\n",
      "INFO:root:Epoch[4] Batch [180]\tSpeed: 114.07 samples/sec\tTrain-accuracy=0.999089\n",
      "INFO:root:Epoch[4] Batch [210]\tSpeed: 113.49 samples/sec\tTrain-accuracy=0.999107\n",
      "INFO:root:Epoch[4] Batch [240]\tSpeed: 114.10 samples/sec\tTrain-accuracy=0.999219\n",
      "INFO:root:Epoch[4] Batch [270]\tSpeed: 113.65 samples/sec\tTrain-accuracy=0.999306\n",
      "INFO:root:Epoch[4] Train-accuracy=0.999322\n",
      "INFO:root:Epoch[4] Time cost=324.583\n",
      "INFO:root:Epoch[4] Validation-accuracy=0.966602\n",
      "INFO:root:Saved checkpoint to \"/home/jiaxuzhu/developer/CSD395/model/inception-bn/inception-stage1-0005.params\"\n",
      "INFO:root:Epoch[5] Batch [30]\tSpeed: 117.97 samples/sec\tTrain-accuracy=0.999479\n",
      "INFO:root:Epoch[5] Batch [60]\tSpeed: 113.65 samples/sec\tTrain-accuracy=0.999740\n",
      "INFO:root:Epoch[5] Batch [90]\tSpeed: 113.53 samples/sec\tTrain-accuracy=0.999653\n",
      "INFO:root:Epoch[5] Batch [120]\tSpeed: 114.11 samples/sec\tTrain-accuracy=0.999740\n",
      "INFO:root:Epoch[5] Batch [150]\tSpeed: 114.17 samples/sec\tTrain-accuracy=0.999792\n",
      "INFO:root:Epoch[5] Batch [180]\tSpeed: 113.39 samples/sec\tTrain-accuracy=0.999826\n",
      "INFO:root:Epoch[5] Batch [210]\tSpeed: 113.54 samples/sec\tTrain-accuracy=0.999851\n",
      "INFO:root:Epoch[5] Batch [240]\tSpeed: 113.70 samples/sec\tTrain-accuracy=0.999870\n",
      "INFO:root:Epoch[5] Batch [270]\tSpeed: 113.15 samples/sec\tTrain-accuracy=0.999884\n",
      "INFO:root:Epoch[5] Train-accuracy=0.999891\n",
      "INFO:root:Epoch[5] Time cost=323.804\n",
      "INFO:root:Epoch[5] Validation-accuracy=0.969752\n",
      "INFO:root:Saved checkpoint to \"/home/jiaxuzhu/developer/CSD395/model/inception-bn/inception-stage1-0006.params\"\n",
      "INFO:root:Saved checkpoint to \"/home/jiaxuzhu/developer/CSD395/model/inception-bn/inception-stage1-0006.params\"\n"
     ]
    }
   ],
   "source": [
    "model_dir = '/home/jiaxuzhu/developer/CSD395/model/inception-bn'\n",
    "prefix = 'Inception_BN'\n",
    "n_iter = 39\n",
    "\n",
    "tc = TextureClassifier(model_dir, prefix, n_iter, 10)\n",
    "tc.mx_init(data_dir, 128)\n",
    "tc.mx_training(6, 0.001, 128, os.path.join(model_dir, 'inception-stage1'))"
   ]
  },
  {
   "cell_type": "code",
   "execution_count": 26,
   "metadata": {
    "collapsed": false
   },
   "outputs": [
    {
     "name": "stdout",
     "output_type": "stream",
     "text": [
      "(151925, 10)\n"
     ]
    }
   ],
   "source": [
    "model_dir = '/home/jiaxuzhu/developer/CSD395/model/inception-bn'\n",
    "prefix = 'inception-stage1'\n",
    "n_iter = 6\n",
    "\n",
    "tc = TextureClassifier(model_dir, prefix, n_iter, 10)\n",
    "tc.mx_init(data_dir, 128)\n",
    "\n",
    "prob = tc.init_model.predict(tc.iter['test'])\n",
    "print prob.shape\n"
   ]
  },
  {
   "cell_type": "code",
   "execution_count": 38,
   "metadata": {
    "collapsed": false
   },
   "outputs": [
    {
     "ename": "TypeError",
     "evalue": "unsupported operand type(s) for /: 'str' and 'int'",
     "output_type": "error",
     "traceback": [
      "\u001b[1;31m---------------------------------------------------------------------------\u001b[0m",
      "\u001b[1;31mTypeError\u001b[0m                                 Traceback (most recent call last)",
      "\u001b[1;32m<ipython-input-38-827ef85f2804>\u001b[0m in \u001b[0;36m<module>\u001b[1;34m()\u001b[0m\n\u001b[0;32m     15\u001b[0m         \u001b[0mconfusion\u001b[0m\u001b[1;33m[\u001b[0m\u001b[0mlabel\u001b[0m\u001b[1;33m,\u001b[0m \u001b[0mpy\u001b[0m\u001b[1;33m[\u001b[0m\u001b[0midx\u001b[0m\u001b[1;33m]\u001b[0m\u001b[1;33m]\u001b[0m \u001b[1;33m+=\u001b[0m \u001b[1;36m1\u001b[0m\u001b[1;33m\u001b[0m\u001b[0m\n\u001b[0;32m     16\u001b[0m         \u001b[0midx\u001b[0m \u001b[1;33m+=\u001b[0m \u001b[1;36m1\u001b[0m\u001b[1;33m\u001b[0m\u001b[0m\n\u001b[1;32m---> 17\u001b[1;33m \u001b[1;32mprint\u001b[0m \u001b[1;34m'testing accuracy is %.4f'\u001b[0m \u001b[1;33m%\u001b[0m \u001b[0mfloat\u001b[0m\u001b[1;33m(\u001b[0m\u001b[0mcount\u001b[0m\u001b[1;33m)\u001b[0m\u001b[1;33m/\u001b[0m\u001b[0midx\u001b[0m\u001b[1;33m\u001b[0m\u001b[0m\n\u001b[0m\u001b[0;32m     18\u001b[0m \u001b[1;32mprint\u001b[0m \u001b[0mconfusion\u001b[0m\u001b[1;33m\u001b[0m\u001b[0m\n",
      "\u001b[1;31mTypeError\u001b[0m: unsupported operand type(s) for /: 'str' and 'int'"
     ]
    }
   ],
   "source": [
    "import numpy as np\n",
    "\n",
    "y_batch = []\n",
    "tc.iter['test'].reset()\n",
    "\n",
    "py = np.argmax(prob, axis=1).flatten()\n",
    "confusion = np.zeros((tc.n_class, tc.n_class)).astype(int)\n",
    "count = 0\n",
    "with open(os.path.join(data_dir, 'test.lst'), 'r') as test_lst:\n",
    "    idx = 0\n",
    "    for line in test_lst.readlines():\n",
    "        label = int(line.split('\\t')[1])\n",
    "        if label == py[idx]:\n",
    "            count += 1\n",
    "        confusion[label, py[idx]] += 1\n",
    "        idx += 1\n",
    "print 'testing accuracy is %.4f' % (float(count)/idx)\n",
    "print confusion"
   ]
  }
 ],
 "metadata": {
  "kernelspec": {
   "display_name": "Python 2",
   "language": "python",
   "name": "python2"
  },
  "language_info": {
   "codemirror_mode": {
    "name": "ipython",
    "version": 2
   },
   "file_extension": ".py",
   "mimetype": "text/x-python",
   "name": "python",
   "nbconvert_exporter": "python",
   "pygments_lexer": "ipython2",
   "version": "2.7.6"
  }
 },
 "nbformat": 4,
 "nbformat_minor": 0
}
