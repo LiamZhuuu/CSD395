{
 "cells": [
  {
   "cell_type": "code",
   "execution_count": 1,
   "metadata": {
    "collapsed": true
   },
   "outputs": [],
   "source": [
    "from texture.TextureClassifier import TextureClassifier\n",
    "import os\n",
    "import logging\n",
    "\n",
    "logger = logging.getLogger()\n",
    "logger.setLevel(logging.DEBUG)\n",
    "data_dir = '/home/jiaxuzhu/data/sample_patches'\n",
    "p_labels = ['5N', '7n', '7N', '12N', 'Gr', 'LVe', 'Pn', 'SuVe', 'VLL', 'BackG']"
   ]
  },
  {
   "cell_type": "code",
   "execution_count": 3,
   "metadata": {
    "collapsed": false
   },
   "outputs": [
    {
     "name": "stderr",
     "output_type": "stream",
     "text": [
      "INFO:root:Start training with [gpu(0)]\n",
      "INFO:root:Epoch[0] Batch [30]\tSpeed: 121.66 samples/sec\tTrain-accuracy=0.370312\n",
      "INFO:root:Epoch[0] Train-accuracy=0.466211\n",
      "INFO:root:Epoch[0] Time cost=44.188\n",
      "INFO:root:Epoch[0] Validation-accuracy=0.694141\n",
      "INFO:root:Saved checkpoint to \"/home/jiaxuzhu/developer/CSD395/model/inception-bn/inception-stage1-0001.params\"\n",
      "INFO:root:Epoch[1] Batch [30]\tSpeed: 114.73 samples/sec\tTrain-accuracy=0.825781\n",
      "INFO:root:Epoch[1] Train-accuracy=0.840234\n",
      "INFO:root:Epoch[1] Time cost=45.250\n",
      "INFO:root:Epoch[1] Validation-accuracy=0.814453\n",
      "INFO:root:Saved checkpoint to \"/home/jiaxuzhu/developer/CSD395/model/inception-bn/inception-stage1-0002.params\"\n",
      "INFO:root:Epoch[2] Batch [30]\tSpeed: 118.47 samples/sec\tTrain-accuracy=0.917188\n",
      "INFO:root:Epoch[2] Train-accuracy=0.924805\n",
      "INFO:root:Epoch[2] Time cost=44.011\n",
      "INFO:root:Epoch[2] Validation-accuracy=0.846484\n",
      "INFO:root:Saved checkpoint to \"/home/jiaxuzhu/developer/CSD395/model/inception-bn/inception-stage1-0003.params\"\n",
      "INFO:root:Epoch[3] Batch [30]\tSpeed: 118.31 samples/sec\tTrain-accuracy=0.968750\n",
      "INFO:root:Epoch[3] Train-accuracy=0.972461\n",
      "INFO:root:Epoch[3] Time cost=44.082\n",
      "INFO:root:Epoch[3] Validation-accuracy=0.892578\n",
      "INFO:root:Saved checkpoint to \"/home/jiaxuzhu/developer/CSD395/model/inception-bn/inception-stage1-0004.params\"\n",
      "INFO:root:Epoch[4] Batch [30]\tSpeed: 117.70 samples/sec\tTrain-accuracy=0.993490\n",
      "INFO:root:Epoch[4] Train-accuracy=0.994336\n",
      "INFO:root:Epoch[4] Time cost=44.185\n",
      "INFO:root:Epoch[4] Validation-accuracy=0.907031\n",
      "INFO:root:Saved checkpoint to \"/home/jiaxuzhu/developer/CSD395/model/inception-bn/inception-stage1-0005.params\"\n",
      "INFO:root:Epoch[5] Batch [30]\tSpeed: 119.82 samples/sec\tTrain-accuracy=0.999479\n",
      "INFO:root:Epoch[5] Train-accuracy=0.999609\n",
      "INFO:root:Epoch[5] Time cost=43.616\n",
      "INFO:root:Epoch[5] Validation-accuracy=0.914453\n",
      "INFO:root:Saved checkpoint to \"/home/jiaxuzhu/developer/CSD395/model/inception-bn/inception-stage1-0006.params\"\n",
      "INFO:root:Saved checkpoint to \"/home/jiaxuzhu/developer/CSD395/model/inception-bn/inception-stage1-0006.params\"\n"
     ]
    }
   ],
   "source": [
    "model_dir = '/home/jiaxuzhu/developer/CSD395/model/inception-bn'\n",
    "prefix = 'Inception_BN'\n",
    "n_iter = 39\n",
    "\n",
    "tc = TextureClassifier(data_dir, model_dir, prefix, n_iter, 128, 10)\n",
    "tc.mx_training(6, 0.001, 128, os.path.join(model_dir, 'inception-stage1'))\n"
   ]
  },
  {
   "cell_type": "code",
   "execution_count": 4,
   "metadata": {
    "collapsed": false
   },
   "outputs": [
    {
     "name": "stderr",
     "output_type": "stream",
     "text": [
      "INFO:root:Finish predict...\n",
      "INFO:root:final accuracy = 0.920312\n"
     ]
    }
   ],
   "source": [
    "model_dir = '/home/jiaxuzhu/developer/CSD395/model/inception-bn'\n",
    "prefix = 'inception-stage1'\n",
    "n_iter = 6\n",
    "\n",
    "tc = TextureClassifier(data_dir, model_dir, prefix, n_iter, 128, 10)\n",
    "c_matrix =  tc.mx_confusion()\n",
    "print c_matrix"
   ]
  },
  {
   "cell_type": "code",
   "execution_count": null,
   "metadata": {
    "collapsed": true
   },
   "outputs": [],
   "source": []
  }
 ],
 "metadata": {
  "kernelspec": {
   "display_name": "Python 2",
   "language": "python",
   "name": "python2"
  },
  "language_info": {
   "codemirror_mode": {
    "name": "ipython",
    "version": 2
   },
   "file_extension": ".py",
   "mimetype": "text/x-python",
   "name": "python",
   "nbconvert_exporter": "python",
   "pygments_lexer": "ipython2",
   "version": "2.7.6"
  }
 },
 "nbformat": 4,
 "nbformat_minor": 0
}
